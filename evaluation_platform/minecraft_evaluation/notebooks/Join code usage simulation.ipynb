{
 "cells": [
  {
   "cell_type": "markdown",
   "id": "2e1c3dae-df14-4ce9-9628-d372ece65338",
   "metadata": {},
   "source": [
    "# Long term simulation of join code usage\n",
    "\n",
    "This notebook simulates a continuous data collection using N tasks, M agents and K different instances per agent. Each data point uses R concurrent agents. The simulation tests:\n",
    "\n",
    "* The distribution of data collection over tasks.\n",
    "* The correct usage of join codes without repeating busy instances.\n",
    "* The average amount of free instances"
   ]
  },
  {
   "cell_type": "code",
   "execution_count": 1,
   "id": "6148a4a0-695c-42a0-a054-00128a27c2cb",
   "metadata": {},
   "outputs": [],
   "source": [
    "import matplotlib.pyplot as plt\n",
    "import numpy\n",
    "import pandas\n",
    "import seaborn\n",
    "\n",
    "from copy import deepcopy"
   ]
  },
  {
   "cell_type": "code",
   "execution_count": 2,
   "id": "ecf92740-618e-4217-9793-2df56329dd7c",
   "metadata": {},
   "outputs": [],
   "source": [
    "%run -i ../../common/priority_queue.py\n",
    "%run -i ../task_management/task_manager.py"
   ]
  },
  {
   "cell_type": "code",
   "execution_count": 3,
   "id": "62b8894c-87d1-4d42-bd56-3819fd7ce4ce",
   "metadata": {},
   "outputs": [],
   "source": [
    "import logging\n",
    "loggers = [logging.getLogger(name) for name in logging.root.manager.loggerDict]\n",
    "for logger in loggers:\n",
    "    logger.setLevel(logging.WARNING)"
   ]
  },
  {
   "cell_type": "code",
   "execution_count": 4,
   "id": "1db9a400-128c-40e8-85c6-bef2d7e6d17e",
   "metadata": {},
   "outputs": [],
   "source": [
    "# Simulation parameters\n",
    "N_TASKS = 10\n",
    "M_AGENTS = 3\n",
    "K_INSTANCES = 4\n",
    "R_CONCURRENT_INSTANCES = 2\n",
    "\n",
    "# Simulation data\n",
    "TEST_TASKS = {\n",
    "    f\"task{task_id}\": {\n",
    "        \"task_id\": f\"task{task_id}_id\",\n",
    "        \"task_join_code\": f\"task{task_id}_join_code\"\n",
    "    } for task_id in range(N_TASKS)\n",
    "}\n",
    "\n",
    "\n",
    "TEST_AGENTS = {}\n",
    "for agent_id in range(M_AGENTS):\n",
    "    TEST_AGENTS[f\"agent{agent_id}\"] = [\n",
    "        {\n",
    "            \"agent_instance_id\": f\"agent{agent_id}_instance{instance_id}_id\",\n",
    "            \"agent_instance_name\": f\"agent1{agent_id}_instance{instance_id}\",\n",
    "        } for instance_id in range(K_INSTANCES)\n",
    "    ]\n",
    "\n",
    "    \n",
    "TEST_TASKS_FILENAME = 'TEST_TASKS_FILENAME'\n",
    "TEST_AGENTS_FILENAME = 'TEST_AGENTS_FILENAME'\n",
    "\n",
    "\n",
    "class TaskManagerMock(TaskManager):\n",
    "\n",
    "    @staticmethod\n",
    "    def read_json_file(json_filepath):\n",
    "        \"\"\"Mock that returns constant value instead of content of `agent_info_filepath`.\"\"\"\n",
    "        if json_filepath == TEST_TASKS_FILENAME:\n",
    "            return deepcopy(TEST_TASKS)\n",
    "        elif json_filepath == TEST_AGENTS_FILENAME:\n",
    "            return deepcopy(TEST_AGENTS)\n",
    "        raise ValueError(f'Incorrect filepath for TaskManagerMock: {json_filepath}')\n"
   ]
  },
  {
   "cell_type": "markdown",
   "id": "5dfeb18c-54a4-4260-bd3b-01a81fdb9444",
   "metadata": {},
   "source": [
    "The simulation has the following steps:\n",
    "  1. Requests all possible join codes to the task manager\n",
    "  2. While is not done:\n",
    "      1. Select a random code to be completed\n",
    "      2. Ask for a new join code"
   ]
  },
  {
   "cell_type": "code",
   "execution_count": 5,
   "id": "02a40729-e42e-4617-b124-928f95c1f973",
   "metadata": {},
   "outputs": [],
   "source": [
    "\n",
    "class Simulation:\n",
    "    def __init__(self, concurrent_instances):\n",
    "        self.task_manager = TaskManagerMock(\n",
    "            TEST_TASKS_FILENAME, TEST_AGENTS_FILENAME, agent_combination_size=concurrent_instances)\n",
    "        self.generated_codes = []\n",
    "        self.code_pairs_in_use = []\n",
    "        self.completed_codes = []\n",
    "        self.completed_task_agent_pairs = []\n",
    "        self.instances_in_use = set()\n",
    "        self.concurrent_instances = concurrent_instances\n",
    "        self.codes_completed_before_next_batch = [0]\n",
    "\n",
    "        self.all_instances = self._get_free_instances()\n",
    "\n",
    "    def _get_free_instances(self):\n",
    "        return set([\n",
    "            agent_instance_info\n",
    "            for agent_instances in self.task_manager.free_agent_instances.values()\n",
    "            for agent_instance_info in agent_instances\n",
    "        ])\n",
    "        \n",
    "    def _record_code_in_use(self, join_codes):\n",
    "        # Check instance use\n",
    "        for join_code in join_codes:\n",
    "            assert join_code.agent_instance_id not in self.instances_in_use\n",
    "            self.instances_in_use.add(join_code.agent_instance_id)\n",
    "        \n",
    "        # Store metrics\n",
    "        self.code_pairs_in_use.append(join_codes)\n",
    "        self.generated_codes.extend(join_codes)\n",
    "    \n",
    "    def _complete_codes(self, completed_codes):\n",
    "        task_agents_pair = [completed_codes[0].task_name]\n",
    "        for code in completed_codes:\n",
    "            self.task_manager.complete_join_code(code.build_string())\n",
    "            self.completed_codes.append(code)\n",
    "            self.instances_in_use.remove(code.agent_instance_id)\n",
    "            task_agents_pair.append(code.agent_name)\n",
    "        self.completed_task_agent_pairs.append(task_agents_pair)\n",
    "    \n",
    "    def _check_correct_free_instances(self):\n",
    "        free_instances = self._get_free_instances()\n",
    "        if self.all_instances != self.instances_in_use.union(free_instances):\n",
    "            print('Error! Task manager free instances + recorded instances in use is not equal to all instances')\n",
    "            print('All instances', self.all_instances)\n",
    "            print('Free instances according to simulation', self.all_instances.difference(self.instances_in_use))\n",
    "            print('Free instances according to Task manager', self._get_free_instances())\n",
    "            return False\n",
    "        return True\n",
    "    \n",
    "    def start(self, steps=100):\n",
    "        # Ask for all available codes\n",
    "        while True:\n",
    "            join_codes = self.task_manager.get_next_join_codes()\n",
    "            if join_codes is None:\n",
    "                break\n",
    "            self._record_code_in_use(join_codes)\n",
    "            free_agents = self.task_manager.get_available_agents()\n",
    "\n",
    "        # Start code completion\n",
    "        for step in range(steps):\n",
    "            if len(self.code_pairs_in_use) > 0:\n",
    "                # COMPLETE RANDOM CODE\n",
    "                codes_to_complete = self.code_pairs_in_use.pop(\n",
    "                    numpy.random.randint(len(self.code_pairs_in_use)))\n",
    "                self._complete_codes(codes_to_complete)\n",
    "                self.codes_completed_before_next_batch[-1] += 1\n",
    "            \n",
    "            if not self._check_correct_free_instances():\n",
    "                break\n",
    "                \n",
    "            # GENERATE NEXT CODE\n",
    "            join_codes = self.task_manager.get_next_join_codes()\n",
    "\n",
    "            if join_codes is None:\n",
    "                free_agents = self.task_manager.get_available_agents()\n",
    "                if len(free_agents) > self.concurrent_instances:\n",
    "                    print('No code generated, but enough free agents')\n",
    "                    print('Free agents', free_agents)\n",
    "                    print('Free instances', free_instances)\n",
    "                    break\n",
    "                continue\n",
    "            self.codes_completed_before_next_batch.append(0)\n",
    "            self._record_code_in_use(join_codes)\n",
    "            if not self._check_correct_free_instances():\n",
    "                break\n",
    "    \n",
    "    def end(self):\n",
    "        \"\"\"Complete all remaining codes\"\"\"\n",
    "        while len(self.code_pairs_in_use) > 0:\n",
    "            codes_to_complete = self.code_pairs_in_use.pop(numpy.random.randint(len(self.code_pairs_in_use)))\n",
    "            self._complete_codes(codes_to_complete)"
   ]
  },
  {
   "cell_type": "code",
   "execution_count": 15,
   "id": "a0f375e1-9ae0-4bc1-9d7b-4b15391fd0a7",
   "metadata": {
    "tags": []
   },
   "outputs": [],
   "source": [
    "simulation = Simulation(R_CONCURRENT_INSTANCES)\n",
    "simulation.start(200)\n",
    "#simulation.end()"
   ]
  },
  {
   "cell_type": "code",
   "execution_count": 16,
   "id": "e0539b69-e978-4061-b107-e127b794a88d",
   "metadata": {},
   "outputs": [],
   "source": [
    "collected_data = pandas.DataFrame(data=[\n",
    "    code.to_dict() for code in simulation.completed_codes\n",
    "])"
   ]
  },
  {
   "cell_type": "code",
   "execution_count": 17,
   "id": "54fcc1ab-1655-4458-8126-8e983ffc7c17",
   "metadata": {},
   "outputs": [
    {
     "data": {
      "text/html": [
       "<div>\n",
       "<style scoped>\n",
       "    .dataframe tbody tr th:only-of-type {\n",
       "        vertical-align: middle;\n",
       "    }\n",
       "\n",
       "    .dataframe tbody tr th {\n",
       "        vertical-align: top;\n",
       "    }\n",
       "\n",
       "    .dataframe thead th {\n",
       "        text-align: right;\n",
       "    }\n",
       "</style>\n",
       "<table border=\"1\" class=\"dataframe\">\n",
       "  <thead>\n",
       "    <tr style=\"text-align: right;\">\n",
       "      <th></th>\n",
       "      <th>task_name</th>\n",
       "      <th>task_id</th>\n",
       "      <th>task_join_code</th>\n",
       "      <th>agent_name</th>\n",
       "      <th>agent_instance_id</th>\n",
       "    </tr>\n",
       "  </thead>\n",
       "  <tbody>\n",
       "    <tr>\n",
       "      <th>365</th>\n",
       "      <td>task7</td>\n",
       "      <td>task7_id</td>\n",
       "      <td>task7_join_code</td>\n",
       "      <td>agent2</td>\n",
       "      <td>agent2_instance3_id</td>\n",
       "    </tr>\n",
       "    <tr>\n",
       "      <th>3</th>\n",
       "      <td>task7</td>\n",
       "      <td>task7_id</td>\n",
       "      <td>task7_join_code</td>\n",
       "      <td>agent2</td>\n",
       "      <td>agent2_instance1_id</td>\n",
       "    </tr>\n",
       "    <tr>\n",
       "      <th>313</th>\n",
       "      <td>task2</td>\n",
       "      <td>task2_id</td>\n",
       "      <td>task2_join_code</td>\n",
       "      <td>agent2</td>\n",
       "      <td>agent2_instance2_id</td>\n",
       "    </tr>\n",
       "  </tbody>\n",
       "</table>\n",
       "</div>"
      ],
      "text/plain": [
       "    task_name   task_id   task_join_code agent_name    agent_instance_id\n",
       "365     task7  task7_id  task7_join_code     agent2  agent2_instance3_id\n",
       "3       task7  task7_id  task7_join_code     agent2  agent2_instance1_id\n",
       "313     task2  task2_id  task2_join_code     agent2  agent2_instance2_id"
      ]
     },
     "execution_count": 17,
     "metadata": {},
     "output_type": "execute_result"
    }
   ],
   "source": [
    "collected_data.sample(3)"
   ]
  },
  {
   "cell_type": "code",
   "execution_count": 18,
   "id": "5a36cbf7-33ce-4858-b616-5bb59274ef98",
   "metadata": {},
   "outputs": [
    {
     "data": {
      "image/png": "[encoded data removed]",
      "text/plain": [
       "<Figure size 432x288 with 1 Axes>"
      ]
     },
     "metadata": {
      "needs_background": "light"
     },
     "output_type": "display_data"
    }
   ],
   "source": [
    "seaborn.countplot(data=collected_data, x='task_name', color='steelblue').set(title='Distribution of codes over tasks');"
   ]
  },
  {
   "cell_type": "code",
   "execution_count": 19,
   "id": "0a6bb792-8144-45c2-b886-f71989cb525c",
   "metadata": {},
   "outputs": [
    {
     "data": {
      "image/png": "[encoded data removed]",
      "text/plain": [
       "<Figure size 432x288 with 1 Axes>"
      ]
     },
     "metadata": {
      "needs_background": "light"
     },
     "output_type": "display_data"
    }
   ],
   "source": [
    "seaborn.countplot(data=collected_data, x='agent_name', color='steelblue').set(title='Distribution of codes over agents');"
   ]
  },
  {
   "cell_type": "code",
   "execution_count": 20,
   "id": "8b2ee892-d4dd-4036-8032-85d1b6a8cd5e",
   "metadata": {},
   "outputs": [
    {
     "data": {
      "image/png": "[encoded data removed]",
      "text/plain": [
       "<Figure size 432x288 with 1 Axes>"
      ]
     },
     "metadata": {
      "needs_background": "light"
     },
     "output_type": "display_data"
    }
   ],
   "source": [
    "seaborn.countplot(\n",
    "    data=collected_data.groupby('agent_instance_id').count(), x='agent_name',\n",
    "    color='steelblue').set(title='Distribution of codes over agent instances')\n",
    "plt.xticks(rotation=45);"
   ]
  },
  {
   "cell_type": "code",
   "execution_count": 21,
   "id": "314cb164-0132-4630-9e04-7463ad56d9aa",
   "metadata": {},
   "outputs": [
    {
     "data": {
      "image/png": "[encoded data removed]",
      "text/plain": [
       "<Figure size 360x360 with 1 Axes>"
      ]
     },
     "metadata": {
      "needs_background": "light"
     },
     "output_type": "display_data"
    }
   ],
   "source": [
    "seaborn.displot(simulation.codes_completed_before_next_batch);"
   ]
  },
  {
   "cell_type": "code",
   "execution_count": 22,
   "id": "5ec69638-b470-442a-8242-22920788e99d",
   "metadata": {},
   "outputs": [
    {
     "data": {
      "text/html": [
       "<div>\n",
       "<style scoped>\n",
       "    .dataframe tbody tr th:only-of-type {\n",
       "        vertical-align: middle;\n",
       "    }\n",
       "\n",
       "    .dataframe tbody tr th {\n",
       "        vertical-align: top;\n",
       "    }\n",
       "\n",
       "    .dataframe thead th {\n",
       "        text-align: right;\n",
       "    }\n",
       "</style>\n",
       "<table border=\"1\" class=\"dataframe\">\n",
       "  <thead>\n",
       "    <tr style=\"text-align: right;\">\n",
       "      <th></th>\n",
       "      <th>task_name</th>\n",
       "      <th>agent1</th>\n",
       "      <th>agent2</th>\n",
       "      <th>agent_pair</th>\n",
       "    </tr>\n",
       "  </thead>\n",
       "  <tbody>\n",
       "    <tr>\n",
       "      <th>175</th>\n",
       "      <td>task2</td>\n",
       "      <td>agent1</td>\n",
       "      <td>agent2</td>\n",
       "      <td>agent1-agent2</td>\n",
       "    </tr>\n",
       "    <tr>\n",
       "      <th>96</th>\n",
       "      <td>task5</td>\n",
       "      <td>agent0</td>\n",
       "      <td>agent1</td>\n",
       "      <td>agent0-agent1</td>\n",
       "    </tr>\n",
       "  </tbody>\n",
       "</table>\n",
       "</div>"
      ],
      "text/plain": [
       "    task_name  agent1  agent2     agent_pair\n",
       "175     task2  agent1  agent2  agent1-agent2\n",
       "96      task5  agent0  agent1  agent0-agent1"
      ]
     },
     "execution_count": 22,
     "metadata": {},
     "output_type": "execute_result"
    }
   ],
   "source": [
    "def concat_pair(row):\n",
    "    if row.agent1 < row.agent2:\n",
    "        return row.agent1 + '-' + row.agent2\n",
    "    return row.agent2 + '-' + row.agent1\n",
    "\n",
    "completed_task_agent_pairs = pandas.DataFrame(simulation.completed_task_agent_pairs, columns=['task_name', 'agent1', 'agent2'])\n",
    "completed_task_agent_pairs['agent_pair'] = completed_task_agent_pairs.apply(concat_pair, axis=1)\n",
    "completed_task_agent_pairs.sample(2)"
   ]
  },
  {
   "cell_type": "code",
   "execution_count": 23,
   "id": "58370887-6680-4005-9b91-8a0c9cc31947",
   "metadata": {},
   "outputs": [
    {
     "data": {
      "image/png": "[encoded data removed]",
      "text/plain": [
       "<Figure size 432x288 with 2 Axes>"
      ]
     },
     "metadata": {
      "needs_background": "light"
     },
     "output_type": "display_data"
    }
   ],
   "source": [
    "seaborn.heatmap(\n",
    "    completed_task_agent_pairs[['task_name', 'agent_pair', 'agent1']]\\\n",
    "        .groupby(['task_name', 'agent_pair']).count()\\\n",
    "        .reset_index().rename(columns={'agent1': 'count'})\\\n",
    "        .pivot(index='task_name', columns='agent_pair'),\n",
    "    annot=True\n",
    ");"
   ]
  },
  {
   "cell_type": "code",
   "execution_count": null,
   "id": "b308a844-d1ae-408f-8025-d2c5a83ae3e6",
   "metadata": {},
   "outputs": [],
   "source": []
  }
 ],
 "metadata": {
  "kernelspec": {
   "display_name": "Python [conda env:jup] *",
   "language": "python",
   "name": "conda-env-jup-py"
  },
  "language_info": {
   "codemirror_mode": {
    "name": "ipython",
    "version": 3
   },
   "file_extension": ".py",
   "mimetype": "text/x-python",
   "name": "python",
   "nbconvert_exporter": "python",
   "pygments_lexer": "ipython3",
   "version": "3.7.11"
  }
 },
 "nbformat": 4,
 "nbformat_minor": 5
}
